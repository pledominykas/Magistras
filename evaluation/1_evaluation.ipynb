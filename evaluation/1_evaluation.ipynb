{
  "nbformat": 4,
  "nbformat_minor": 0,
  "metadata": {
    "colab": {
      "provenance": []
    },
    "kernelspec": {
      "name": "python3",
      "display_name": "Python 3"
    },
    "language_info": {
      "name": "python"
    }
  },
  "cells": [
    {
      "cell_type": "code",
      "execution_count": null,
      "metadata": {
        "id": "T9Ls6Bmkjol9"
      },
      "outputs": [],
      "source": [
        "%%capture\n",
        "!git clone https://github.com/pledominykas/lm-evaluation-harness-lt\n",
        "!pip install /content/lm-evaluation-harness-lt/\n",
        "!pip install lm_eval[zeno]"
      ]
    },
    {
      "cell_type": "code",
      "source": [
        "!lm_eval --model hf \\\n",
        "    --model_args pretrained=\"neurotechnology/Lt-Llama-2-7b-hf\",tokenizer=\"neurotechnology/Lt-Llama-2-7b-hf\" \\\n",
        "    --tasks truthfulqa_lt_mc1,truthfulqa_lt_mc2,arc_easy_lt,arc_challenge_lt,winogrande_lt,mmlu,hellaswag_lt,gsm8k_lt \\\n",
        "    --device cuda:0 \\\n",
        "    --batch_size 8"
      ],
      "metadata": {
        "id": "wLeNZd6Zjr1A"
      },
      "execution_count": null,
      "outputs": []
    },
    {
      "cell_type": "code",
      "source": [
        "!lm_eval --model hf \\\n",
        "    --model_args pretrained=\"neurotechnology/Lt-Llama-2-13b-hf\",tokenizer=\"neurotechnology/Lt-Llama-2-13b-hf\" \\\n",
        "    --tasks truthfulqa_lt_mc1,truthfulqa_lt_mc2,arc_easy_lt,arc_challenge_lt,winogrande_lt,mmlu,hellaswag_lt,gsm8k_lt \\\n",
        "    --device cuda:0 \\\n",
        "    --batch_size 4"
      ],
      "metadata": {
        "id": "8S1AA8jnjtET"
      },
      "execution_count": null,
      "outputs": []
    },
    {
      "cell_type": "code",
      "source": [
        "!lm_eval --model hf \\\n",
        "    --model_args pretrained=\"domce20/mGPT-lithuanian\",tokenizer=\"ai-forever/mGPT\" \\\n",
        "    --tasks truthfulqa_lt_mc1,truthfulqa_lt_mc2,arc_easy_lt,arc_challenge_lt,winogrande_lt,mmlu,hellaswag_lt,gsm8k_lt \\\n",
        "    --device cuda:0 \\\n",
        "    --batch_size 8"
      ],
      "metadata": {
        "id": "SczUpo0Kjugi"
      },
      "execution_count": null,
      "outputs": []
    },
    {
      "cell_type": "code",
      "source": [
        "!lm_eval --model hf \\\n",
        "    --model_args pretrained=\"domce20/EuroLLM-1.7B-lithuanian\",tokenizer=\"utter-project/EuroLLM-1.7B\" \\\n",
        "    --tasks truthfulqa_lt_mc1,truthfulqa_lt_mc2,arc_easy_lt,arc_challenge_lt,winogrande_lt,mmlu,hellaswag_lt,gsm8k_lt \\\n",
        "    --device cuda:0 \\\n",
        "    --batch_size 8"
      ],
      "metadata": {
        "id": "5jTj2ZNJjwB3"
      },
      "execution_count": null,
      "outputs": []
    },
    {
      "cell_type": "code",
      "source": [
        "!lm_eval --model hf \\\n",
        "    --model_args pretrained=\"domce20/GPT2-lithuanian\",tokenizer=\"domce20/mGPT-lithuanian-tokenizer\" \\\n",
        "    --tasks truthfulqa_lt_mc1,truthfulqa_lt_mc2,arc_easy_lt,arc_challenge_lt,winogrande_lt,mmlu,hellaswag_lt,gsm8k_lt \\\n",
        "    --device cuda:0 \\\n",
        "    --batch_size 8"
      ],
      "metadata": {
        "id": "9rnFPyhHjxe2"
      },
      "execution_count": null,
      "outputs": []
    },
    {
      "cell_type": "code",
      "source": [
        "!lm_eval --model hf \\\n",
        "    --model_args pretrained=\"ai-forever/mGPT\",tokenizer=\"ai-forever/mGPT\" \\\n",
        "    --tasks truthfulqa_lt_mc1,truthfulqa_lt_mc2,arc_easy_lt,arc_challenge_lt,winogrande_lt,mmlu,hellaswag_lt,gsm8k_lt \\\n",
        "    --device cuda:0 \\\n",
        "    --batch_size 8"
      ],
      "metadata": {
        "id": "nmJAB5oVj0Jg"
      },
      "execution_count": null,
      "outputs": []
    },
    {
      "cell_type": "code",
      "source": [
        "!lm_eval --model hf \\\n",
        "    --model_args pretrained=\"utter-project/EuroLLM-1.7B\",tokenizer=\"utter-project/EuroLLM-1.7B\" \\\n",
        "    --tasks truthfulqa_lt_mc1,truthfulqa_lt_mc2,arc_easy_lt,arc_challenge_lt,winogrande_lt,mmlu,hellaswag_lt,gsm8k_lt \\\n",
        "    --device cuda:0 \\\n",
        "    --batch_size 8"
      ],
      "metadata": {
        "id": "0uz46Gq5j2xc"
      },
      "execution_count": null,
      "outputs": []
    }
  ]
}