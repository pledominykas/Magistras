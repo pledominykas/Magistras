{
  "nbformat": 4,
  "nbformat_minor": 0,
  "metadata": {
    "colab": {
      "provenance": [],
      "machine_shape": "hm"
    },
    "kernelspec": {
      "name": "python3",
      "display_name": "Python 3"
    },
    "language_info": {
      "name": "python"
    }
  },
  "cells": [
    {
      "cell_type": "code",
      "execution_count": null,
      "metadata": {
        "id": "HDmY4ftRPH0h"
      },
      "outputs": [],
      "source": [
        "%%capture\n",
        "!pip install datasets\n",
        "!pip install tldextract"
      ]
    },
    {
      "cell_type": "code",
      "source": [
        "from datasets import load_dataset\n",
        "from urllib.parse import urlparse\n",
        "import tldextract\n",
        "import pandas as pd\n",
        "import matplotlib.pyplot as plt"
      ],
      "metadata": {
        "id": "PhyO3sLqPOUP"
      },
      "execution_count": null,
      "outputs": []
    },
    {
      "cell_type": "code",
      "source": [
        "dataset = load_dataset(\"domce20/c4-lithuanian-enhanced\")"
      ],
      "metadata": {
        "id": "76Q-w2QvPcMC"
      },
      "execution_count": null,
      "outputs": []
    },
    {
      "cell_type": "code",
      "source": [
        "dataset_no_text = dataset[\"train\"].remove_columns(\"text\")"
      ],
      "metadata": {
        "id": "LFpiencNYK2e"
      },
      "execution_count": null,
      "outputs": []
    },
    {
      "cell_type": "code",
      "source": [
        "df = dataset_no_text.to_pandas()"
      ],
      "metadata": {
        "id": "VF9Fn60NQm7I"
      },
      "execution_count": null,
      "outputs": []
    },
    {
      "cell_type": "code",
      "source": [
        "df[\"base_url\"] = df[\"url\"].apply(lambda x: urlparse(x).netloc)"
      ],
      "metadata": {
        "id": "UItcIj5aRYLH"
      },
      "execution_count": null,
      "outputs": []
    },
    {
      "cell_type": "code",
      "source": [
        "df[\"suffix\"] = df[\"base_url\"].apply(lambda x: tldextract.extract(x).suffix)"
      ],
      "metadata": {
        "id": "jyUMRHJVb1Th"
      },
      "execution_count": null,
      "outputs": []
    },
    {
      "cell_type": "code",
      "source": [
        "print(f\"Number of rows: {len(df)}\")\n",
        "print(f\"Number of unique base urls: {len(df['base_url'].unique())}\")"
      ],
      "metadata": {
        "id": "PBktWYFXQ6eM"
      },
      "execution_count": null,
      "outputs": []
    },
    {
      "cell_type": "code",
      "source": [
        "plot = df[\"base_url\"].value_counts().head(30).plot.bar(figsize=(30, 16))\n",
        "plot.set_xlabel(\"Base URL\", fontsize=16)\n",
        "plot.set_ylabel(\"Number of rows\", fontsize=16)\n",
        "plt.xticks(fontsize=16)\n",
        "plt.yticks(fontsize=16)\n",
        "\n",
        "plt.show()"
      ],
      "metadata": {
        "id": "-yn6fl2ec-jb"
      },
      "execution_count": null,
      "outputs": []
    },
    {
      "cell_type": "code",
      "source": [
        "plot = df[\"suffix\"].value_counts()[1::].head(15).plot.bar(figsize=(30, 16))\n",
        "plot.set_xlabel(\"URL Suffix\", fontsize=16)\n",
        "plot.set_ylabel(\"Number of rows\", fontsize=16)\n",
        "plt.xticks(fontsize=16)\n",
        "plt.yticks(fontsize=16)\n",
        "plt.ticklabel_format(style=\"plain\", axis=\"y\")\n",
        "\n",
        "plt.show()"
      ],
      "metadata": {
        "id": "AXJIATzbdmLC"
      },
      "execution_count": null,
      "outputs": []
    },
    {
      "cell_type": "code",
      "source": [
        "common_urls = df[\"base_url\"].value_counts().head(30)\n",
        "\n",
        "df_websites = df[df[\"base_url\"].isin(common_urls.index)]"
      ],
      "metadata": {
        "id": "l5YQ4lOixCdM"
      },
      "execution_count": null,
      "outputs": []
    },
    {
      "cell_type": "code",
      "source": [
        "plot = df_websites.groupby(\"base_url\")[\"perplexity_wiki\"].mean().sort_values(ascending=True).plot.bar(figsize=(30, 16))\n",
        "plot.set_xlabel(\"Base URL\", fontsize=16)\n",
        "plot.set_ylabel(\"Average perplexity score\", fontsize=16)\n",
        "plt.xticks(fontsize=16)\n",
        "plt.yticks(fontsize=16)"
      ],
      "metadata": {
        "id": "BGCA9s9z03Xb"
      },
      "execution_count": null,
      "outputs": []
    }
  ]
}