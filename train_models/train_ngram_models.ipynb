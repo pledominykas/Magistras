{
  "nbformat": 4,
  "nbformat_minor": 0,
  "metadata": {
    "colab": {
      "provenance": []
    },
    "kernelspec": {
      "name": "python3",
      "display_name": "Python 3"
    },
    "language_info": {
      "name": "python"
    }
  },
  "cells": [
    {
      "cell_type": "code",
      "execution_count": null,
      "metadata": {
        "id": "80YWGdH_3eTN"
      },
      "outputs": [],
      "source": [
        "!apt-get install -y build-essential libboost-all-dev zlib1g-dev"
      ]
    },
    {
      "cell_type": "code",
      "source": [
        "!git clone https://github.com/kpu/kenlm.git"
      ],
      "metadata": {
        "id": "QSvjIJJt3_TH"
      },
      "execution_count": null,
      "outputs": []
    },
    {
      "cell_type": "code",
      "source": [
        "%cd kenlm\n",
        "!mkdir build\n",
        "%cd build\n",
        "!cmake ..\n",
        "!make -j4\n",
        "%cd ../.."
      ],
      "metadata": {
        "id": "w-3ZJYfX4Ehv"
      },
      "execution_count": null,
      "outputs": []
    },
    {
      "cell_type": "code",
      "source": [
        "!kenlm/build/bin/lmplz --skip_symbols -o 5 < lithuanian_wikipedia.txt > lithuanian_wikipedia.arpa"
      ],
      "metadata": {
        "id": "6nxAMare5bzj"
      },
      "execution_count": null,
      "outputs": []
    },
    {
      "cell_type": "code",
      "source": [
        "!kenlm/build/bin/lmplz --skip_symbols -o 5 < lithuanian_lrt.txt > lithuanian_lrt.arpa"
      ],
      "metadata": {
        "id": "QXHzx5Ew6yEs"
      },
      "execution_count": null,
      "outputs": []
    },
    {
      "cell_type": "code",
      "source": [
        "!kenlm/build/bin/build_binary lithuanian_wikipedia.arpa lithuanian_wikipedia.binary"
      ],
      "metadata": {
        "id": "I-FrpEMW68c-"
      },
      "execution_count": null,
      "outputs": []
    },
    {
      "cell_type": "code",
      "source": [
        "!kenlm/build/bin/build_binary lithuanian_lrt.arpa lithuanian_lrt.binary"
      ],
      "metadata": {
        "id": "q9l0rwOc69YS"
      },
      "execution_count": null,
      "outputs": []
    }
  ]
}